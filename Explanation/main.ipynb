{
 "cells": [
  {
   "cell_type": "code",
   "execution_count": 1,
   "metadata": {},
   "outputs": [],
   "source": [
    "# Importing the libraries\n",
    "import numpy as np\n",
    "import matplotlib.pyplot as plt\n",
    "import pandas as pd\n",
    "from pandas import Series\n",
    "from statsmodels.tsa.arima_model import ARIMA\n"
   ]
  },
  {
   "cell_type": "code",
   "execution_count": 2,
   "metadata": {},
   "outputs": [
    {
     "name": "stdout",
     "output_type": "stream",
     "text": [
      "   temperatureMin  temperatureMax  sunriseTime  sunsetTime\n",
      "0           78.50          102.82   1208824080  1208870820\n",
      "1           76.62           99.27   1240446420  1240493220\n",
      "2           76.99          101.31   1271982480  1272029220\n",
      "3           70.68           94.20   1335054480  1335101220\n",
      "4           76.02           95.63   1366676820  1366723620\n",
      "-----------------------------------------\n",
      "0     78.50\n",
      "1     76.62\n",
      "2     76.99\n",
      "3     70.68\n",
      "4     76.02\n",
      "5     74.78\n",
      "6     74.66\n",
      "7     78.41\n",
      "8     80.22\n",
      "9     74.82\n",
      "10    79.02\n",
      "11    75.34\n",
      "Name: temperatureMin, dtype: float64\n",
      "-----------------------------------------\n",
      "0     78.50\n",
      "1     76.62\n",
      "2     76.99\n",
      "3     70.68\n",
      "4     76.02\n",
      "5     74.78\n",
      "6     74.66\n",
      "7     78.41\n",
      "8     80.22\n",
      "9     74.82\n",
      "10    79.02\n",
      "11    75.34\n",
      "Name: temperatureMin, dtype: float64\n"
     ]
    }
   ],
   "source": [
    "# load dataset\n",
    "df = pd.read_csv('data.csv')\n",
    "print(df.head())\n",
    "print(\"-----------------------------------------\")\n",
    "tempMin=df['temperatureMin']\n",
    "print(tempMin)\n",
    "print(\"-----------------------------------------\")\n",
    "tempMax=df['temperatureMax']\n",
    "print(tempMin)\n"
   ]
  },
  {
   "cell_type": "code",
   "execution_count": 3,
   "metadata": {},
   "outputs": [
    {
     "name": "stdout",
     "output_type": "stream",
     "text": [
      "[76.41343156]\n"
     ]
    }
   ],
   "source": [
    "model = ARIMA(tempMin, order=(1,0,0))\n",
    "model_fit = model.fit(disp=0)\n",
    "forecast_min = model_fit.forecast(steps=1)[0]\n",
    "print(forecast_min)\n"
   ]
  },
  {
   "cell_type": "code",
   "execution_count": 4,
   "metadata": {},
   "outputs": [
    {
     "name": "stdout",
     "output_type": "stream",
     "text": [
      "[99.71663833]\n"
     ]
    }
   ],
   "source": [
    "model = ARIMA(tempMax, order=(1,0,0))\n",
    "model_fit = model.fit(disp=0)\n",
    "forecast_max = model_fit.forecast(steps=1)[0]\n",
    "print(forecast_max)"
   ]
  },
  {
   "cell_type": "code",
   "execution_count": 8,
   "metadata": {},
   "outputs": [
    {
     "data": {
      "image/png": "[encoded data removed]",
      "text/plain": [
       "<Figure size 432x288 with 1 Axes>"
      ]
     },
     "metadata": {
      "needs_background": "light"
     },
     "output_type": "display_data"
    }
   ],
   "source": [
    "tempMin.plot()\n",
    "tempMax.plot()\n",
    "plt.show()"
   ]
  },
  {
   "cell_type": "code",
   "execution_count": null,
   "metadata": {},
   "outputs": [],
   "source": []
  }
 ],
 "metadata": {
  "kernelspec": {
   "display_name": "Python 3",
   "language": "python",
   "name": "python3"
  },
  "language_info": {
   "codemirror_mode": {
    "name": "ipython",
    "version": 3
   },
   "file_extension": ".py",
   "mimetype": "text/x-python",
   "name": "python",
   "nbconvert_exporter": "python",
   "pygments_lexer": "ipython3",
   "version": "3.7.4"
  }
 },
 "nbformat": 4,
 "nbformat_minor": 4
}
