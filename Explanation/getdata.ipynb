{
 "cells": [
  {
   "cell_type": "code",
   "execution_count": 1,
   "metadata": {},
   "outputs": [],
   "source": [
    "import datetime          \n"
   ]
  },
  {
   "cell_type": "code",
   "execution_count": 2,
   "metadata": {},
   "outputs": [
    {
     "name": "stdout",
     "output_type": "stream",
     "text": [
      "2020\n"
     ]
    }
   ],
   "source": [
    "current_time_exact= datetime.datetime.now()\n",
    "current_time=current_time_exact.strftime(\"%Y-%m-%d %H:%M:%S\")\n",
    "current_year=int(current_time_exact.strftime(\"%Y\"))\n",
    "print(current_year)\n"
   ]
  },
  {
   "cell_type": "code",
   "execution_count": 3,
   "metadata": {},
   "outputs": [
    {
     "name": "stdout",
     "output_type": "stream",
     "text": [
      "1587419283\n"
     ]
    }
   ],
   "source": [
    "import calendar,time\n",
    "current_epoch_time=calendar.timegm(time.strptime(current_time, '%Y-%m-%d %H:%M:%S'))\n",
    "print(current_epoch_time)\n",
    "tmrw_epoch_time=current_epoch_time+86400"
   ]
  },
  {
   "cell_type": "code",
   "execution_count": 4,
   "metadata": {},
   "outputs": [
    {
     "name": "stdout",
     "output_type": "stream",
     "text": [
      "1208814483\n",
      "1240436883\n",
      "1271972883\n",
      "1303508883\n",
      "1335044883\n",
      "1366667283\n",
      "1398203283\n",
      "1429739283\n",
      "1461275283\n",
      "1492897683\n",
      "1524433683\n",
      "1555969683\n",
      "1587505683\n"
     ]
    }
   ],
   "source": [
    "epoch_time_list=[tmrw_epoch_time]\n",
    "epoch_time=tmrw_epoch_time\n",
    "for year in range(current_year-1,2007,-1):\n",
    "    if (( year%400 == 0)or (( year%4 == 0 ) and ( year%100 != 0))):\n",
    "        epoch_time=epoch_time-31622400\n",
    "        epoch_time_list.append(epoch_time)\n",
    "    else:\n",
    "        epoch_time=epoch_time-31536000\n",
    "        epoch_time_list.append(epoch_time)\n",
    "epoch_time_list.reverse()\n",
    "for i in epoch_time_list:\n",
    "        print(i)"
   ]
  },
  {
   "cell_type": "code",
   "execution_count": 5,
   "metadata": {},
   "outputs": [],
   "source": [
    "import requests\n",
    "import pandas as pd\n",
    "from collections import namedtuple\n",
    "df1 = []\n",
    "features = ['temperatureMin','temperatureMax','sunriseTime','sunsetTime']\n",
    "DailySummary = namedtuple(\"DailySummary\", features)\n"
   ]
  },
  {
   "cell_type": "code",
   "execution_count": 6,
   "metadata": {},
   "outputs": [],
   "source": [
    "for time in epoch_time_list:\n",
    "    if time<1293840000 or time>=1325376000:\n",
    "        BASE_URL = \"https://api.darksky.net/forecast/24f425975f71f30890d8d790e82cc8bc/26.8371648,75.5625925,\" + str(time) + \"?exclude=currently,flags,alerts,hourly\"\n",
    "        response = requests.get(BASE_URL)\n",
    "        data = response.json()\n",
    "        df = pd.DataFrame(data[\"daily\"][\"data\"])\n",
    "        df1.append(DailySummary(sunriseTime = df.at[0, 'sunriseTime'],sunsetTime = df.at[0, 'sunsetTime'],temperatureMin = df.at[0, 'temperatureLow'],temperatureMax = df.at[0, 'temperatureHigh']))                    \n"
   ]
  },
  {
   "cell_type": "code",
   "execution_count": 7,
   "metadata": {},
   "outputs": [
    {
     "name": "stdout",
     "output_type": "stream",
     "text": [
      "    temperatureMin  temperatureMax  sunriseTime  sunsetTime\n",
      "0            78.50          102.82   1208824080  1208870820\n",
      "1            76.62           99.27   1240446420  1240493220\n",
      "2            76.99          101.31   1271982480  1272029220\n",
      "3            70.68           94.20   1335054480  1335101220\n",
      "4            76.02           95.63   1366676820  1366723620\n",
      "5            74.78           94.07   1398212880  1398259620\n",
      "6            74.66          101.16   1429748880  1429795620\n",
      "7            78.41          101.16   1461284880  1461331620\n",
      "8            80.22          101.16   1492907220  1492954020\n",
      "9            74.82           97.59   1524443280  1524490020\n",
      "10           79.02          107.15   1555979280  1556026020\n",
      "11           75.34          100.16   1587515280  1587562020\n"
     ]
    }
   ],
   "source": [
    "res = pd.DataFrame(df1, columns=features)\n",
    "print(res)\n"
   ]
  },
  {
   "cell_type": "code",
   "execution_count": null,
   "metadata": {},
   "outputs": [],
   "source": [
    "res.to_csv('data.csv', index=False)#optional but used hereto make things understandable"
   ]
  },
  {
   "cell_type": "code",
   "execution_count": null,
   "metadata": {},
   "outputs": [],
   "source": [
    " #Make sure you empty the lsit now so that later on it doesnot get append to the old thingy"
   ]
  }
 ],
 "metadata": {
  "kernelspec": {
   "display_name": "Python 3",
   "language": "python",
   "name": "python3"
  },
  "language_info": {
   "codemirror_mode": {
    "name": "ipython",
    "version": 3
   },
   "file_extension": ".py",
   "mimetype": "text/x-python",
   "name": "python",
   "nbconvert_exporter": "python",
   "pygments_lexer": "ipython3",
   "version": "3.7.4"
  }
 },
 "nbformat": 4,
 "nbformat_minor": 4
}
